{
 "cells": [
  {
   "cell_type": "code",
   "execution_count": 1,
   "id": "37b66221-dfca-463e-aab6-e4e06ae58ed8",
   "metadata": {},
   "outputs": [],
   "source": [
    "import pandas as pd"
   ]
  },
  {
   "cell_type": "code",
   "execution_count": 7,
   "id": "2617f2c9-2a16-4830-afee-e90ad649ac8f",
   "metadata": {},
   "outputs": [],
   "source": [
    "course_name = ['Data Science', 'Machine Learning', 'Big Data', 'Data Engineer']"
   ]
  },
  {
   "cell_type": "code",
   "execution_count": 8,
   "id": "0f3943d0-069f-4f86-a695-a4a7aee2f4e6",
   "metadata": {},
   "outputs": [],
   "source": [
    "duration = [2,3,6,4]"
   ]
  },
  {
   "cell_type": "code",
   "execution_count": 9,
   "id": "170f4a05-4d36-428d-9c72-1dbe0b9d16c4",
   "metadata": {},
   "outputs": [],
   "source": [
    "df = pd.DataFrame(data = {'course_name' : course_name, 'duration' : duration})"
   ]
  },
  {
   "cell_type": "code",
   "execution_count": 10,
   "id": "3b1144e0-b6b1-413f-ab4a-319aad943052",
   "metadata": {},
   "outputs": [
    {
     "data": {
      "text/html": [
       "<div>\n",
       "<style scoped>\n",
       "    .dataframe tbody tr th:only-of-type {\n",
       "        vertical-align: middle;\n",
       "    }\n",
       "\n",
       "    .dataframe tbody tr th {\n",
       "        vertical-align: top;\n",
       "    }\n",
       "\n",
       "    .dataframe thead th {\n",
       "        text-align: right;\n",
       "    }\n",
       "</style>\n",
       "<table border=\"1\" class=\"dataframe\">\n",
       "  <thead>\n",
       "    <tr style=\"text-align: right;\">\n",
       "      <th></th>\n",
       "      <th>course_name</th>\n",
       "      <th>duration</th>\n",
       "    </tr>\n",
       "  </thead>\n",
       "  <tbody>\n",
       "    <tr>\n",
       "      <th>0</th>\n",
       "      <td>Data Science</td>\n",
       "      <td>2</td>\n",
       "    </tr>\n",
       "    <tr>\n",
       "      <th>1</th>\n",
       "      <td>Machine Learning</td>\n",
       "      <td>3</td>\n",
       "    </tr>\n",
       "    <tr>\n",
       "      <th>2</th>\n",
       "      <td>Big Data</td>\n",
       "      <td>6</td>\n",
       "    </tr>\n",
       "    <tr>\n",
       "      <th>3</th>\n",
       "      <td>Data Engineer</td>\n",
       "      <td>4</td>\n",
       "    </tr>\n",
       "  </tbody>\n",
       "</table>\n",
       "</div>"
      ],
      "text/plain": [
       "        course_name  duration\n",
       "0      Data Science         2\n",
       "1  Machine Learning         3\n",
       "2          Big Data         6\n",
       "3     Data Engineer         4"
      ]
     },
     "execution_count": 10,
     "metadata": {},
     "output_type": "execute_result"
    }
   ],
   "source": [
    "df"
   ]
  },
  {
   "cell_type": "markdown",
   "id": "5ea49ce9-dd71-4e02-9d26-e4f43a3a3dee",
   "metadata": {},
   "source": [
    "Q1. Write a code to print the data present in the second row of the dataframe, df."
   ]
  },
  {
   "cell_type": "code",
   "execution_count": 12,
   "id": "1a8b8f1f-ba40-42f4-8d3a-8273c5ac7197",
   "metadata": {},
   "outputs": [
    {
     "data": {
      "text/html": [
       "<div>\n",
       "<style scoped>\n",
       "    .dataframe tbody tr th:only-of-type {\n",
       "        vertical-align: middle;\n",
       "    }\n",
       "\n",
       "    .dataframe tbody tr th {\n",
       "        vertical-align: top;\n",
       "    }\n",
       "\n",
       "    .dataframe thead th {\n",
       "        text-align: right;\n",
       "    }\n",
       "</style>\n",
       "<table border=\"1\" class=\"dataframe\">\n",
       "  <thead>\n",
       "    <tr style=\"text-align: right;\">\n",
       "      <th></th>\n",
       "      <th>course_name</th>\n",
       "      <th>duration</th>\n",
       "    </tr>\n",
       "  </thead>\n",
       "  <tbody>\n",
       "    <tr>\n",
       "      <th>2</th>\n",
       "      <td>Big Data</td>\n",
       "      <td>6</td>\n",
       "    </tr>\n",
       "  </tbody>\n",
       "</table>\n",
       "</div>"
      ],
      "text/plain": [
       "  course_name  duration\n",
       "2    Big Data         6"
      ]
     },
     "execution_count": 12,
     "metadata": {},
     "output_type": "execute_result"
    }
   ],
   "source": [
    "df[2:3]"
   ]
  },
  {
   "cell_type": "markdown",
   "id": "2adfb245-102c-4498-a6e1-8dc3acfed228",
   "metadata": {},
   "source": [
    "Q2. What is the difference between the functions loc and iloc in pandas.DataFrame?"
   ]
  },
  {
   "cell_type": "markdown",
   "id": "23a3d327-5e02-4d86-bb69-d56b7250f366",
   "metadata": {},
   "source": [
    "loc gives only named indexes\n",
    "iloc gives inbuild indexes"
   ]
  },
  {
   "cell_type": "markdown",
   "id": "fc204611-b3fb-47dc-abc1-542a66f3a1a1",
   "metadata": {},
   "source": [
    "Q3. Reindex the given dataframe using a variable, reindex = [3,0,1,2] and store it in the variable, new_df\n",
    "then find the output for both new_df.loc[2] and new_df.iloc[2]."
   ]
  },
  {
   "cell_type": "code",
   "execution_count": 13,
   "id": "b2ecc7b4-b9a5-4d72-877b-2bdf3ccd46f0",
   "metadata": {},
   "outputs": [
    {
     "data": {
      "text/html": [
       "<div>\n",
       "<style scoped>\n",
       "    .dataframe tbody tr th:only-of-type {\n",
       "        vertical-align: middle;\n",
       "    }\n",
       "\n",
       "    .dataframe tbody tr th {\n",
       "        vertical-align: top;\n",
       "    }\n",
       "\n",
       "    .dataframe thead th {\n",
       "        text-align: right;\n",
       "    }\n",
       "</style>\n",
       "<table border=\"1\" class=\"dataframe\">\n",
       "  <thead>\n",
       "    <tr style=\"text-align: right;\">\n",
       "      <th></th>\n",
       "      <th>course_name</th>\n",
       "      <th>duration</th>\n",
       "    </tr>\n",
       "  </thead>\n",
       "  <tbody>\n",
       "    <tr>\n",
       "      <th>0</th>\n",
       "      <td>Data Science</td>\n",
       "      <td>2</td>\n",
       "    </tr>\n",
       "    <tr>\n",
       "      <th>1</th>\n",
       "      <td>Machine Learning</td>\n",
       "      <td>3</td>\n",
       "    </tr>\n",
       "    <tr>\n",
       "      <th>2</th>\n",
       "      <td>Big Data</td>\n",
       "      <td>6</td>\n",
       "    </tr>\n",
       "    <tr>\n",
       "      <th>3</th>\n",
       "      <td>Data Engineer</td>\n",
       "      <td>4</td>\n",
       "    </tr>\n",
       "  </tbody>\n",
       "</table>\n",
       "</div>"
      ],
      "text/plain": [
       "        course_name  duration\n",
       "0      Data Science         2\n",
       "1  Machine Learning         3\n",
       "2          Big Data         6\n",
       "3     Data Engineer         4"
      ]
     },
     "execution_count": 13,
     "metadata": {},
     "output_type": "execute_result"
    }
   ],
   "source": [
    "df"
   ]
  },
  {
   "cell_type": "code",
   "execution_count": 20,
   "id": "48006d3d-09c9-45b4-b6a7-b896d9cf9c7e",
   "metadata": {},
   "outputs": [],
   "source": [
    "reindex=[3,0,1,2]"
   ]
  },
  {
   "cell_type": "code",
   "execution_count": 22,
   "id": "0bdcf083-9656-4014-864a-3c7a540b7590",
   "metadata": {},
   "outputs": [],
   "source": [
    "new_df=df.reindex(reindex)"
   ]
  },
  {
   "cell_type": "code",
   "execution_count": 23,
   "id": "3919dbb4-935e-4c35-8118-4af73535d91d",
   "metadata": {},
   "outputs": [
    {
     "data": {
      "text/html": [
       "<div>\n",
       "<style scoped>\n",
       "    .dataframe tbody tr th:only-of-type {\n",
       "        vertical-align: middle;\n",
       "    }\n",
       "\n",
       "    .dataframe tbody tr th {\n",
       "        vertical-align: top;\n",
       "    }\n",
       "\n",
       "    .dataframe thead th {\n",
       "        text-align: right;\n",
       "    }\n",
       "</style>\n",
       "<table border=\"1\" class=\"dataframe\">\n",
       "  <thead>\n",
       "    <tr style=\"text-align: right;\">\n",
       "      <th></th>\n",
       "      <th>course_name</th>\n",
       "      <th>duration</th>\n",
       "    </tr>\n",
       "  </thead>\n",
       "  <tbody>\n",
       "    <tr>\n",
       "      <th>3</th>\n",
       "      <td>Data Engineer</td>\n",
       "      <td>4</td>\n",
       "    </tr>\n",
       "    <tr>\n",
       "      <th>0</th>\n",
       "      <td>Data Science</td>\n",
       "      <td>2</td>\n",
       "    </tr>\n",
       "    <tr>\n",
       "      <th>1</th>\n",
       "      <td>Machine Learning</td>\n",
       "      <td>3</td>\n",
       "    </tr>\n",
       "    <tr>\n",
       "      <th>2</th>\n",
       "      <td>Big Data</td>\n",
       "      <td>6</td>\n",
       "    </tr>\n",
       "  </tbody>\n",
       "</table>\n",
       "</div>"
      ],
      "text/plain": [
       "        course_name  duration\n",
       "3     Data Engineer         4\n",
       "0      Data Science         2\n",
       "1  Machine Learning         3\n",
       "2          Big Data         6"
      ]
     },
     "execution_count": 23,
     "metadata": {},
     "output_type": "execute_result"
    }
   ],
   "source": [
    "new_df"
   ]
  },
  {
   "cell_type": "code",
   "execution_count": 25,
   "id": "fb847970-e5a1-42de-9add-c7aea2581354",
   "metadata": {},
   "outputs": [
    {
     "data": {
      "text/html": [
       "<div>\n",
       "<style scoped>\n",
       "    .dataframe tbody tr th:only-of-type {\n",
       "        vertical-align: middle;\n",
       "    }\n",
       "\n",
       "    .dataframe tbody tr th {\n",
       "        vertical-align: top;\n",
       "    }\n",
       "\n",
       "    .dataframe thead th {\n",
       "        text-align: right;\n",
       "    }\n",
       "</style>\n",
       "<table border=\"1\" class=\"dataframe\">\n",
       "  <thead>\n",
       "    <tr style=\"text-align: right;\">\n",
       "      <th></th>\n",
       "      <th>course_name</th>\n",
       "      <th>duration</th>\n",
       "    </tr>\n",
       "  </thead>\n",
       "  <tbody>\n",
       "    <tr>\n",
       "      <th>2</th>\n",
       "      <td>Big Data</td>\n",
       "      <td>6</td>\n",
       "    </tr>\n",
       "  </tbody>\n",
       "</table>\n",
       "</div>"
      ],
      "text/plain": [
       "  course_name  duration\n",
       "2    Big Data         6"
      ]
     },
     "execution_count": 25,
     "metadata": {},
     "output_type": "execute_result"
    }
   ],
   "source": [
    "new_df.loc[[2]]"
   ]
  },
  {
   "cell_type": "code",
   "execution_count": 26,
   "id": "1ea1ebab-3464-45ce-8440-e6552c74e81f",
   "metadata": {},
   "outputs": [
    {
     "data": {
      "text/html": [
       "<div>\n",
       "<style scoped>\n",
       "    .dataframe tbody tr th:only-of-type {\n",
       "        vertical-align: middle;\n",
       "    }\n",
       "\n",
       "    .dataframe tbody tr th {\n",
       "        vertical-align: top;\n",
       "    }\n",
       "\n",
       "    .dataframe thead th {\n",
       "        text-align: right;\n",
       "    }\n",
       "</style>\n",
       "<table border=\"1\" class=\"dataframe\">\n",
       "  <thead>\n",
       "    <tr style=\"text-align: right;\">\n",
       "      <th></th>\n",
       "      <th>course_name</th>\n",
       "      <th>duration</th>\n",
       "    </tr>\n",
       "  </thead>\n",
       "  <tbody>\n",
       "    <tr>\n",
       "      <th>1</th>\n",
       "      <td>Machine Learning</td>\n",
       "      <td>3</td>\n",
       "    </tr>\n",
       "  </tbody>\n",
       "</table>\n",
       "</div>"
      ],
      "text/plain": [
       "        course_name  duration\n",
       "1  Machine Learning         3"
      ]
     },
     "execution_count": 26,
     "metadata": {},
     "output_type": "execute_result"
    }
   ],
   "source": [
    "new_df.iloc[[2]]"
   ]
  },
  {
   "cell_type": "code",
   "execution_count": 27,
   "id": "3589e56e-97df-43ef-a414-f86d3c53882c",
   "metadata": {},
   "outputs": [],
   "source": [
    "import pandas as pd"
   ]
  },
  {
   "cell_type": "code",
   "execution_count": 28,
   "id": "499f7b09-38bb-46e2-b5a4-7e2fa03ee191",
   "metadata": {},
   "outputs": [],
   "source": [
    "import numpy as np"
   ]
  },
  {
   "cell_type": "code",
   "execution_count": 29,
   "id": "eaf5b321-ddcf-4524-aaea-c54f3f5ab11a",
   "metadata": {},
   "outputs": [],
   "source": [
    "columns = ['column_1', 'column_2', 'column_3', 'column_4', 'column_5', 'column_6']"
   ]
  },
  {
   "cell_type": "code",
   "execution_count": 30,
   "id": "02600cd5-af99-4ede-9804-ffe7b06e858c",
   "metadata": {},
   "outputs": [],
   "source": [
    "indices = [1,2,3,4,5,6]"
   ]
  },
  {
   "cell_type": "code",
   "execution_count": 31,
   "id": "015aa470-1ae4-41fe-ba78-66ad1bb8450a",
   "metadata": {},
   "outputs": [],
   "source": [
    "df1 = pd.DataFrame(np.random.rand(6,6), columns = columns, index = indices)"
   ]
  },
  {
   "cell_type": "code",
   "execution_count": 32,
   "id": "ed1db931-a421-42d5-8d7c-97d9116672ae",
   "metadata": {},
   "outputs": [
    {
     "data": {
      "text/html": [
       "<div>\n",
       "<style scoped>\n",
       "    .dataframe tbody tr th:only-of-type {\n",
       "        vertical-align: middle;\n",
       "    }\n",
       "\n",
       "    .dataframe tbody tr th {\n",
       "        vertical-align: top;\n",
       "    }\n",
       "\n",
       "    .dataframe thead th {\n",
       "        text-align: right;\n",
       "    }\n",
       "</style>\n",
       "<table border=\"1\" class=\"dataframe\">\n",
       "  <thead>\n",
       "    <tr style=\"text-align: right;\">\n",
       "      <th></th>\n",
       "      <th>column_1</th>\n",
       "      <th>column_2</th>\n",
       "      <th>column_3</th>\n",
       "      <th>column_4</th>\n",
       "      <th>column_5</th>\n",
       "      <th>column_6</th>\n",
       "    </tr>\n",
       "  </thead>\n",
       "  <tbody>\n",
       "    <tr>\n",
       "      <th>1</th>\n",
       "      <td>0.358946</td>\n",
       "      <td>0.963223</td>\n",
       "      <td>0.592406</td>\n",
       "      <td>0.281783</td>\n",
       "      <td>0.861278</td>\n",
       "      <td>0.664283</td>\n",
       "    </tr>\n",
       "    <tr>\n",
       "      <th>2</th>\n",
       "      <td>0.623122</td>\n",
       "      <td>0.580574</td>\n",
       "      <td>0.861800</td>\n",
       "      <td>0.368975</td>\n",
       "      <td>0.307387</td>\n",
       "      <td>0.425143</td>\n",
       "    </tr>\n",
       "    <tr>\n",
       "      <th>3</th>\n",
       "      <td>0.711101</td>\n",
       "      <td>0.784928</td>\n",
       "      <td>0.803408</td>\n",
       "      <td>0.945823</td>\n",
       "      <td>0.409157</td>\n",
       "      <td>0.574628</td>\n",
       "    </tr>\n",
       "    <tr>\n",
       "      <th>4</th>\n",
       "      <td>0.853545</td>\n",
       "      <td>0.504902</td>\n",
       "      <td>0.183535</td>\n",
       "      <td>0.325572</td>\n",
       "      <td>0.018227</td>\n",
       "      <td>0.536999</td>\n",
       "    </tr>\n",
       "    <tr>\n",
       "      <th>5</th>\n",
       "      <td>0.279388</td>\n",
       "      <td>0.197637</td>\n",
       "      <td>0.613891</td>\n",
       "      <td>0.491686</td>\n",
       "      <td>0.614484</td>\n",
       "      <td>0.844870</td>\n",
       "    </tr>\n",
       "    <tr>\n",
       "      <th>6</th>\n",
       "      <td>0.078323</td>\n",
       "      <td>0.970600</td>\n",
       "      <td>0.138263</td>\n",
       "      <td>0.414535</td>\n",
       "      <td>0.357894</td>\n",
       "      <td>0.151678</td>\n",
       "    </tr>\n",
       "  </tbody>\n",
       "</table>\n",
       "</div>"
      ],
      "text/plain": [
       "   column_1  column_2  column_3  column_4  column_5  column_6\n",
       "1  0.358946  0.963223  0.592406  0.281783  0.861278  0.664283\n",
       "2  0.623122  0.580574  0.861800  0.368975  0.307387  0.425143\n",
       "3  0.711101  0.784928  0.803408  0.945823  0.409157  0.574628\n",
       "4  0.853545  0.504902  0.183535  0.325572  0.018227  0.536999\n",
       "5  0.279388  0.197637  0.613891  0.491686  0.614484  0.844870\n",
       "6  0.078323  0.970600  0.138263  0.414535  0.357894  0.151678"
      ]
     },
     "execution_count": 32,
     "metadata": {},
     "output_type": "execute_result"
    }
   ],
   "source": [
    "df1"
   ]
  },
  {
   "cell_type": "markdown",
   "id": "8277e137-38ff-435a-a933-6b7558a86b28",
   "metadata": {},
   "source": [
    "Q4. Write a code to find the following statistical measurements for the above dataframe df1:\n",
    "(i) mean of each and every column present in the dataframe.\n",
    "(ii) standard deviation of column, ‘column_2’"
   ]
  },
  {
   "cell_type": "code",
   "execution_count": 36,
   "id": "7a8fe93a-c35a-4c01-8f7e-a96fbcbc13f6",
   "metadata": {},
   "outputs": [],
   "source": [
    "a=df1.groupby(\"column_1\")"
   ]
  },
  {
   "cell_type": "code",
   "execution_count": 34,
   "id": "e993ac7d-fcd1-4242-93dd-1bd65a44f398",
   "metadata": {},
   "outputs": [
    {
     "data": {
      "text/html": [
       "<div>\n",
       "<style scoped>\n",
       "    .dataframe tbody tr th:only-of-type {\n",
       "        vertical-align: middle;\n",
       "    }\n",
       "\n",
       "    .dataframe tbody tr th {\n",
       "        vertical-align: top;\n",
       "    }\n",
       "\n",
       "    .dataframe thead th {\n",
       "        text-align: right;\n",
       "    }\n",
       "</style>\n",
       "<table border=\"1\" class=\"dataframe\">\n",
       "  <thead>\n",
       "    <tr style=\"text-align: right;\">\n",
       "      <th></th>\n",
       "      <th>column_2</th>\n",
       "      <th>column_3</th>\n",
       "      <th>column_4</th>\n",
       "      <th>column_5</th>\n",
       "      <th>column_6</th>\n",
       "    </tr>\n",
       "    <tr>\n",
       "      <th>column_1</th>\n",
       "      <th></th>\n",
       "      <th></th>\n",
       "      <th></th>\n",
       "      <th></th>\n",
       "      <th></th>\n",
       "    </tr>\n",
       "  </thead>\n",
       "  <tbody>\n",
       "    <tr>\n",
       "      <th>0.078323</th>\n",
       "      <td>0.970600</td>\n",
       "      <td>0.138263</td>\n",
       "      <td>0.414535</td>\n",
       "      <td>0.357894</td>\n",
       "      <td>0.151678</td>\n",
       "    </tr>\n",
       "    <tr>\n",
       "      <th>0.279388</th>\n",
       "      <td>0.197637</td>\n",
       "      <td>0.613891</td>\n",
       "      <td>0.491686</td>\n",
       "      <td>0.614484</td>\n",
       "      <td>0.844870</td>\n",
       "    </tr>\n",
       "    <tr>\n",
       "      <th>0.358946</th>\n",
       "      <td>0.963223</td>\n",
       "      <td>0.592406</td>\n",
       "      <td>0.281783</td>\n",
       "      <td>0.861278</td>\n",
       "      <td>0.664283</td>\n",
       "    </tr>\n",
       "    <tr>\n",
       "      <th>0.623122</th>\n",
       "      <td>0.580574</td>\n",
       "      <td>0.861800</td>\n",
       "      <td>0.368975</td>\n",
       "      <td>0.307387</td>\n",
       "      <td>0.425143</td>\n",
       "    </tr>\n",
       "    <tr>\n",
       "      <th>0.711101</th>\n",
       "      <td>0.784928</td>\n",
       "      <td>0.803408</td>\n",
       "      <td>0.945823</td>\n",
       "      <td>0.409157</td>\n",
       "      <td>0.574628</td>\n",
       "    </tr>\n",
       "    <tr>\n",
       "      <th>0.853545</th>\n",
       "      <td>0.504902</td>\n",
       "      <td>0.183535</td>\n",
       "      <td>0.325572</td>\n",
       "      <td>0.018227</td>\n",
       "      <td>0.536999</td>\n",
       "    </tr>\n",
       "  </tbody>\n",
       "</table>\n",
       "</div>"
      ],
      "text/plain": [
       "          column_2  column_3  column_4  column_5  column_6\n",
       "column_1                                                  \n",
       "0.078323  0.970600  0.138263  0.414535  0.357894  0.151678\n",
       "0.279388  0.197637  0.613891  0.491686  0.614484  0.844870\n",
       "0.358946  0.963223  0.592406  0.281783  0.861278  0.664283\n",
       "0.623122  0.580574  0.861800  0.368975  0.307387  0.425143\n",
       "0.711101  0.784928  0.803408  0.945823  0.409157  0.574628\n",
       "0.853545  0.504902  0.183535  0.325572  0.018227  0.536999"
      ]
     },
     "execution_count": 34,
     "metadata": {},
     "output_type": "execute_result"
    }
   ],
   "source": [
    "a.mean()"
   ]
  },
  {
   "cell_type": "code",
   "execution_count": 42,
   "id": "4ef1f449-0446-4931-9094-35de94d952fa",
   "metadata": {},
   "outputs": [
    {
     "data": {
      "text/plain": [
       "np.float64(0.29929076339703475)"
      ]
     },
     "execution_count": 42,
     "metadata": {},
     "output_type": "execute_result"
    }
   ],
   "source": [
    "df1['column_2'].std()"
   ]
  },
  {
   "cell_type": "code",
   "execution_count": 50,
   "id": "0f935272-ee5a-4889-9a47-57fbfd199174",
   "metadata": {},
   "outputs": [
    {
     "name": "stderr",
     "output_type": "stream",
     "text": [
      "C:\\Users\\sanja\\AppData\\Local\\Temp\\ipykernel_20012\\988253239.py:1: FutureWarning: Setting an item of incompatible dtype is deprecated and will raise an error in a future version of pandas. Value 'sanjay' has dtype incompatible with float64, please explicitly cast to a compatible dtype first.\n",
      "  df1['column_2'][[1]]=\"sanjay\"\n"
     ]
    }
   ],
   "source": [
    "df1['column_2'][[1]]=\"sanjay\""
   ]
  },
  {
   "cell_type": "code",
   "execution_count": 51,
   "id": "fd427a2f-53c6-478a-93cf-fd1456b8f000",
   "metadata": {},
   "outputs": [
    {
     "data": {
      "text/html": [
       "<div>\n",
       "<style scoped>\n",
       "    .dataframe tbody tr th:only-of-type {\n",
       "        vertical-align: middle;\n",
       "    }\n",
       "\n",
       "    .dataframe tbody tr th {\n",
       "        vertical-align: top;\n",
       "    }\n",
       "\n",
       "    .dataframe thead th {\n",
       "        text-align: right;\n",
       "    }\n",
       "</style>\n",
       "<table border=\"1\" class=\"dataframe\">\n",
       "  <thead>\n",
       "    <tr style=\"text-align: right;\">\n",
       "      <th></th>\n",
       "      <th>column_1</th>\n",
       "      <th>column_2</th>\n",
       "      <th>column_3</th>\n",
       "      <th>column_4</th>\n",
       "      <th>column_5</th>\n",
       "      <th>column_6</th>\n",
       "    </tr>\n",
       "  </thead>\n",
       "  <tbody>\n",
       "    <tr>\n",
       "      <th>1</th>\n",
       "      <td>0.358946</td>\n",
       "      <td>sanjay</td>\n",
       "      <td>0.592406</td>\n",
       "      <td>0.281783</td>\n",
       "      <td>0.861278</td>\n",
       "      <td>0.664283</td>\n",
       "    </tr>\n",
       "    <tr>\n",
       "      <th>2</th>\n",
       "      <td>0.623122</td>\n",
       "      <td>0.580574</td>\n",
       "      <td>0.861800</td>\n",
       "      <td>0.368975</td>\n",
       "      <td>0.307387</td>\n",
       "      <td>0.425143</td>\n",
       "    </tr>\n",
       "    <tr>\n",
       "      <th>3</th>\n",
       "      <td>0.711101</td>\n",
       "      <td>0.784928</td>\n",
       "      <td>0.803408</td>\n",
       "      <td>0.945823</td>\n",
       "      <td>0.409157</td>\n",
       "      <td>0.574628</td>\n",
       "    </tr>\n",
       "    <tr>\n",
       "      <th>4</th>\n",
       "      <td>0.853545</td>\n",
       "      <td>0.504902</td>\n",
       "      <td>0.183535</td>\n",
       "      <td>0.325572</td>\n",
       "      <td>0.018227</td>\n",
       "      <td>0.536999</td>\n",
       "    </tr>\n",
       "    <tr>\n",
       "      <th>5</th>\n",
       "      <td>0.279388</td>\n",
       "      <td>0.197637</td>\n",
       "      <td>0.613891</td>\n",
       "      <td>0.491686</td>\n",
       "      <td>0.614484</td>\n",
       "      <td>0.844870</td>\n",
       "    </tr>\n",
       "    <tr>\n",
       "      <th>6</th>\n",
       "      <td>0.078323</td>\n",
       "      <td>0.9706</td>\n",
       "      <td>0.138263</td>\n",
       "      <td>0.414535</td>\n",
       "      <td>0.357894</td>\n",
       "      <td>0.151678</td>\n",
       "    </tr>\n",
       "  </tbody>\n",
       "</table>\n",
       "</div>"
      ],
      "text/plain": [
       "   column_1  column_2  column_3  column_4  column_5  column_6\n",
       "1  0.358946    sanjay  0.592406  0.281783  0.861278  0.664283\n",
       "2  0.623122  0.580574  0.861800  0.368975  0.307387  0.425143\n",
       "3  0.711101  0.784928  0.803408  0.945823  0.409157  0.574628\n",
       "4  0.853545  0.504902  0.183535  0.325572  0.018227  0.536999\n",
       "5  0.279388  0.197637  0.613891  0.491686  0.614484  0.844870\n",
       "6  0.078323    0.9706  0.138263  0.414535  0.357894  0.151678"
      ]
     },
     "execution_count": 51,
     "metadata": {},
     "output_type": "execute_result"
    }
   ],
   "source": [
    "df1"
   ]
  },
  {
   "cell_type": "markdown",
   "id": "ca86b5df-cd0c-453e-8b33-a34b07ecc468",
   "metadata": {},
   "source": [
    "Q6. What do you understand about the windows function in pandas and list the types of windows\n",
    "functions?"
   ]
  },
  {
   "cell_type": "markdown",
   "id": "cac2939c-127f-431d-90f2-77cfeb8fd45c",
   "metadata": {},
   "source": [
    "window is the subcclass of moving window"
   ]
  },
  {
   "cell_type": "markdown",
   "id": "b8c15492-0a27-40d8-a0cb-e2e963b1d56f",
   "metadata": {},
   "source": [
    "Q7. Write a code to print only the current month and year at the time of answering this question."
   ]
  },
  {
   "cell_type": "code",
   "execution_count": 59,
   "id": "a307bfd1-3151-4478-929f-0d6c87c4eeff",
   "metadata": {},
   "outputs": [
    {
     "name": "stdout",
     "output_type": "stream",
     "text": [
      "November 2024\n"
     ]
    }
   ],
   "source": [
    "import datetime\n",
    "current_date = datetime.datetime.now()\n",
    "print(current_date.strftime(\"%B %Y\"))"
   ]
  },
  {
   "cell_type": "code",
   "execution_count": null,
   "id": "e7179e5f-fc96-4ffa-9b73-85f82d126a19",
   "metadata": {},
   "outputs": [],
   "source": []
  },
  {
   "cell_type": "code",
   "execution_count": null,
   "id": "5b9ae1fa-a51e-4066-aad7-2558d7222558",
   "metadata": {},
   "outputs": [],
   "source": []
  }
 ],
 "metadata": {
  "kernelspec": {
   "display_name": "Python 3 (ipykernel)",
   "language": "python",
   "name": "python3"
  },
  "language_info": {
   "codemirror_mode": {
    "name": "ipython",
    "version": 3
   },
   "file_extension": ".py",
   "mimetype": "text/x-python",
   "name": "python",
   "nbconvert_exporter": "python",
   "pygments_lexer": "ipython3",
   "version": "3.13.0"
  }
 },
 "nbformat": 4,
 "nbformat_minor": 5
}
